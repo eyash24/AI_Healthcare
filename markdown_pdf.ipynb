{
 "cells": [
  {
   "cell_type": "code",
   "execution_count": 1,
   "id": "5e26e0f5",
   "metadata": {},
   "outputs": [
    {
     "name": "stdout",
     "output_type": "stream",
     "text": [
      "Collecting markdown-pdf\n",
      "  Downloading markdown_pdf-1.9-py3-none-any.whl.metadata (6.3 kB)\n",
      "Requirement already satisfied: PyMuPDF>=1.25.3 in /opt/miniconda3/envs/envTorch/lib/python3.11/site-packages (from markdown-pdf) (1.25.5)\n",
      "Requirement already satisfied: markdown-it-py==3.0.0 in /opt/miniconda3/envs/envTorch/lib/python3.11/site-packages (from markdown-pdf) (3.0.0)\n",
      "Requirement already satisfied: mdurl~=0.1 in /opt/miniconda3/envs/envTorch/lib/python3.11/site-packages (from markdown-it-py==3.0.0->markdown-pdf) (0.1.2)\n",
      "Downloading markdown_pdf-1.9-py3-none-any.whl (17 kB)\n",
      "Installing collected packages: markdown-pdf\n",
      "Successfully installed markdown-pdf-1.9\n"
     ]
    }
   ],
   "source": [
    "!pip install markdown-pdf"
   ]
  },
  {
   "cell_type": "code",
   "execution_count": 4,
   "id": "04ac8834",
   "metadata": {},
   "outputs": [
    {
     "name": "stdout",
     "output_type": "stream",
     "text": [
      "Successfully converted 'README.md' to 'output.pdf'\n"
     ]
    }
   ],
   "source": [
    "from markdown_pdf import MarkdownPdf, Section\n",
    "\n",
    "# Path to your Markdown file\n",
    "markdown_file_path = \"README.md\" \n",
    "# Path for the output PDF file\n",
    "output_pdf_path = \"output.pdf\"\n",
    "\n",
    "try:\n",
    "    # Read the content of the Markdown file\n",
    "    with open(markdown_file_path, \"r\", encoding=\"utf-8\") as f:\n",
    "        markdown_content = f.read()\n",
    "\n",
    "    # Create a MarkdownPdf object\n",
    "    pdf = MarkdownPdf()\n",
    "\n",
    "    # Add the Markdown content as a section to the PDF\n",
    "    pdf.add_section(Section(markdown_content))\n",
    "\n",
    "    # Save the PDF\n",
    "    pdf.save(output_pdf_path)\n",
    "\n",
    "    print(f\"Successfully converted '{markdown_file_path}' to '{output_pdf_path}'\")\n",
    "\n",
    "except FileNotFoundError:\n",
    "    print(f\"Error: Markdown file not found at '{markdown_file_path}'\")\n",
    "except Exception as e:\n",
    "    print(f\"An error occurred: {e}\")"
   ]
  },
  {
   "cell_type": "code",
   "execution_count": null,
   "id": "34a06269",
   "metadata": {},
   "outputs": [],
   "source": []
  }
 ],
 "metadata": {
  "kernelspec": {
   "display_name": "envTorch",
   "language": "python",
   "name": "python3"
  },
  "language_info": {
   "codemirror_mode": {
    "name": "ipython",
    "version": 3
   },
   "file_extension": ".py",
   "mimetype": "text/x-python",
   "name": "python",
   "nbconvert_exporter": "python",
   "pygments_lexer": "ipython3",
   "version": "3.11.11"
  }
 },
 "nbformat": 4,
 "nbformat_minor": 5
}
