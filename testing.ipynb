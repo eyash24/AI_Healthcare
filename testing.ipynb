{
 "cells": [
  {
   "cell_type": "code",
   "execution_count": null,
   "id": "962db48f",
   "metadata": {},
   "outputs": [
    {
     "name": "stdout",
     "output_type": "stream",
     "text": [
      "PhysicalDevice(name='/physical_device:GPU:0', device_type='GPU')\n",
      "TensorFlow is using the GPU.\n"
     ]
    }
   ],
   "source": [
    "import tensorflow as tf\n",
    "# Ensure TensorFlow uses the GPU\n",
    "gpus = tf.config.experimental.list_physical_devices('GPU')\n",
    "if gpus:\n",
    "    try:\n",
    "        # Currently, memory growth needs to be the same across GPUs\n",
    "        for gpu in gpus:\n",
    "            print(gpu)\n",
    "            tf.config.experimental.set_memory_growth(gpu, True)\n",
    "        print(\"TensorFlow is using the GPU.\")\n",
    "    except RuntimeError as e:\n",
    "        print(e)\n",
    "else:\n",
    "    print(\"TensorFlow is not using the GPU. Check your TensorFlow installation.\")"
   ]
  },
  {
   "cell_type": "code",
   "execution_count": 1,
   "id": "26f89a0a",
   "metadata": {},
   "outputs": [],
   "source": [
    "import cv2"
   ]
  },
  {
   "cell_type": "code",
   "execution_count": null,
   "id": "f9aee38b",
   "metadata": {},
   "outputs": [],
   "source": [
    "\n",
    "\n",
    "eps_grid = np.linspace(0.01, 100.0, 25)\n",
    "min_samples_grid = [3, 5, 7, 10, 15]\n",
    "\n",
    "best = []\n",
    "for min_samples in min_samples_grid:\n",
    "    print(min_samples)\n",
    "    res = dbscan_eps_scan(X_reduced, eps_grid, min_samples=min_samples)\n",
    "    # collect rows where number of clusters >= 2\n",
    "    for eps, n_clusters, n_noise, frac_noise in res:\n",
    "        best.append((min_samples, eps, n_clusters, frac_noise))\n",
    "        print(f\"min_samples={min_samples}, eps={eps:.3f}, clusters={n_clusters:2d}, frac_noise={frac_noise:.3f}\")\n",
    "    print()"
   ]
  }
 ],
 "metadata": {
  "kernelspec": {
   "display_name": "envTorch",
   "language": "python",
   "name": "python3"
  },
  "language_info": {
   "codemirror_mode": {
    "name": "ipython",
    "version": 3
   },
   "file_extension": ".py",
   "mimetype": "text/x-python",
   "name": "python",
   "nbconvert_exporter": "python",
   "pygments_lexer": "ipython3",
   "version": "3.11.11"
  }
 },
 "nbformat": 4,
 "nbformat_minor": 5
}
